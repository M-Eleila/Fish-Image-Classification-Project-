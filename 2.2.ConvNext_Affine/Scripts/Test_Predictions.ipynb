{
 "cells": [
  {
   "cell_type": "code",
   "execution_count": null,
   "metadata": {},
   "outputs": [],
   "source": [
    "import time\n",
    "import torch\n",
    "import dataloader\n",
    "import convnext\n",
    "import torch.nn as nn\n",
    "import torch.optim as optim\n",
    "import ModelExecutionHelper"
   ]
  },
  {
   "cell_type": "code",
   "execution_count": null,
   "metadata": {},
   "outputs": [],
   "source": [
    "#STEP3: create the model\n",
    "print(\"****************** STEP3: create and compile the model ******************\")\n",
    "print(\"****************** STEP3.1: Create architecture  ******************\")\n",
    "trained_model = convnext.ConvNeXt(depths=[3, 3, 9, 3], dims=[96, 192, 384, 768]) #tiny convnext\n",
    "\n",
    "\n",
    "print(\"****************** STEP2.2: laod the weights  ******************\")\n",
    "checkpoint = torch.load(\"D:/2022/Courses/FALL/BLOCK 2/THESIS/Playing/Final Networks/Final/2.2.ConvNext_Affine/BestModel/convnext_model_best_sbatchqueued.pth\")\n",
    "trained_model.load_state_dict(checkpoint['state_dict'])\n",
    "trained_model.cuda()\n",
    "print(trained_model)"
   ]
  }
 ],
 "metadata": {
  "kernelspec": {
   "display_name": "Python 3.9.12",
   "language": "python",
   "name": "python3"
  },
  "language_info": {
   "name": "python",
   "version": "3.9.12"
  },
  "orig_nbformat": 4,
  "vscode": {
   "interpreter": {
    "hash": "e1dae347dd774d46aa9a1b9775244f7893a092f1afc42b43519300fd6365ae36"
   }
  }
 },
 "nbformat": 4,
 "nbformat_minor": 2
}
